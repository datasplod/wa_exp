{
 "cells": [
  {
   "cell_type": "markdown",
   "id": "a9188fe2-0111-4953-ad77-13287435814f",
   "metadata": {},
   "source": [
    "# Wind Analysis\n",
    "\n",
    "### Script to extract ERA wind data from google earth engine and extract wind data of top 75% windspeeds for locations of interest\n",
    "\n",
    "Using seagrass locations with 10k buffer \\\n",
    "Monthly ERA5 wind data - can change to daily if needed but exceeds memory limits"
   ]
  },
  {
   "cell_type": "code",
   "execution_count": 1,
   "id": "55526d8a-d863-41bb-a65f-d5f6958bfbbb",
   "metadata": {
    "tags": []
   },
   "outputs": [],
   "source": [
    "import ee\n",
    "import pandas as pd\n",
    "import matplotlib.pyplot as plt\n",
    "import numpy as np\n",
    "import geemap\n",
    "import geopandas as gpd"
   ]
  },
  {
   "cell_type": "code",
   "execution_count": 2,
   "id": "0f09cab4-82f2-4544-a97d-ebc842e09e47",
   "metadata": {},
   "outputs": [],
   "source": [
    "#ee.Authenticate()\n",
    "ee.Initialize()"
   ]
  },
  {
   "cell_type": "code",
   "execution_count": 3,
   "id": "07f108c3-188f-4c69-a08b-489fcc0e84ff",
   "metadata": {},
   "outputs": [
    {
     "data": {
      "text/plain": [
       "(217, 4)"
      ]
     },
     "execution_count": 3,
     "metadata": {},
     "output_type": "execute_result"
    }
   ],
   "source": [
    "#import full sg csv and convert into suitable format\n",
    "path = r\"C:\\Users\\nw431\\OneDrive - University of Exeter\\1_PhD Research\\Project1_Carbon Model\\Seagrass Carbon Data\\Notebooks\\MASTER_carbon_dataset2_locations_validated.csv\"\n",
    "sg_df_full = pd.read_csv(path)\n",
    "#sg_df_full\n",
    "\n",
    "#read in as geopandas df\n",
    "#sg_df_full = gpd.read_file(path)\n",
    "\n",
    "#keep columns Dataset_ID, Site_name, Lat, Long, Cstock25_Mgha\n",
    "sg_df = sg_df_full[['Dataset_ID', 'Site_name', 'Lat', 'Long']]\n",
    "sg_df = sg_df.rename(columns = {'Long':'x', 'Lat':'y'})\n",
    "#remove any rows with nas in x or y\n",
    "sg_df = sg_df.dropna(subset=['x'])\n",
    "sg_df.shape"
   ]
  },
  {
   "cell_type": "code",
   "execution_count": 4,
   "id": "e7b92da0-704d-4c65-a16b-062d0baddca3",
   "metadata": {},
   "outputs": [],
   "source": [
    "from pandas_geojson import to_geojson\n",
    "sg_json2 = to_geojson(df=sg_df, lat='y', lon='x',\n",
    "                 properties=['Dataset_ID','Site_name'])"
   ]
  },
  {
   "cell_type": "code",
   "execution_count": 5,
   "id": "75a93110-495b-46b0-91d6-2e714dbac081",
   "metadata": {},
   "outputs": [
    {
     "data": {
      "text/plain": [
       "{'type': 'Feature',\n",
       " 'geometry': {'type': 'Point', 'coordinates': [-122.477643, 48.315253]},\n",
       " 'id': '0',\n",
       " 'properties': {'Dataset_ID': 'ID_101', 'Site_name': 'Skagit Bay'}}"
      ]
     },
     "execution_count": 5,
     "metadata": {},
     "output_type": "execute_result"
    }
   ],
   "source": [
    "#print(sg_json2)\n",
    "sg_fc = ee.FeatureCollection(sg_json2)\n",
    "sg_fc.first().getInfo()"
   ]
  },
  {
   "cell_type": "code",
   "execution_count": 6,
   "id": "5bd63c63-da97-48fe-a9fc-356266903976",
   "metadata": {},
   "outputs": [],
   "source": [
    "#use this one for short cornwall only sg csv\n",
    "#path = r\"C:\\Users\\nw431\\OneDrive - University of Exeter\\1_PhD Research\\Project1_Carbon Model\\Seagrass Carbon Data\\Notebooks\\sg_df_cornwall_short.csv\"\n",
    "#sg_df = pd.read_csv(path)\n",
    "#sg_df\n",
    "\n",
    "#convert lat and long to xy\n",
    "#sg_df['x'] = sg_df['Long']\n",
    "#sg_df['y'] = sg_df['Lat']\n",
    "#sg_df.drop(['Lat', 'Long', 'geometry'], axis = 1, inplace = True)\n",
    "#sg_df.to_csv('sg_csv.csv')"
   ]
  },
  {
   "cell_type": "code",
   "execution_count": 7,
   "id": "13b1859b-26a8-4e05-9d59-602e0cd96490",
   "metadata": {},
   "outputs": [],
   "source": [
    "#chop and rename sg_df\n",
    "#convert lat and long to xy\n",
    "\n",
    "#sg_df.to_csv('sg_csv.csv')"
   ]
  },
  {
   "cell_type": "code",
   "execution_count": 8,
   "id": "69b9487f-092a-4480-b031-39f03ca28fbc",
   "metadata": {},
   "outputs": [],
   "source": [
    "#function to calculate windspeed as a band\n",
    "def windspeed(image):\n",
    "    wind_10m = image.expression('sqrt(u**2 + v**2)', {\n",
    "        'u': image.select('u_component_of_wind_10m'),\n",
    "        'v': image.select('v_component_of_wind_10m')\n",
    "      }).rename('windspeed')\n",
    "    time = image.get('system:time_start')\n",
    "    \n",
    "    return wind_10m.set('system:time_start', time)"
   ]
  },
  {
   "cell_type": "code",
   "execution_count": 9,
   "id": "8e08f05a-7bb8-4f53-92cf-9daec887b17e",
   "metadata": {},
   "outputs": [],
   "source": [
    "#function to calculate wind direction as a band\n",
    "def wind_dir(image):\n",
    "    winddir = image.expression(\n",
    "        'mod(180 + (180/3.14) * atan2(v,u), 360)', {\n",
    "          'u': image.select('u_component_of_wind_10m'),\n",
    "          'v': image.select('v_component_of_wind_10m')\n",
    "        }).rename('winddir')\n",
    "    time = image.get('system:time_start')\n",
    "    \n",
    "    return winddir.set('system:time_start', time)\n"
   ]
  },
  {
   "cell_type": "code",
   "execution_count": 10,
   "id": "1e1f7aec-a2a8-4e13-999d-da1a6b028f77",
   "metadata": {},
   "outputs": [],
   "source": [
    "#set up\n",
    "ERA5 = ee.ImageCollection(\"ECMWF/ERA5/DAILY\")\n",
    "\n",
    "#Define start and end periods\n",
    "start_period = ee.Date('2018-01-01')\n",
    "end_period = ee.Date('2020-01-01')\n",
    "\n",
    "#filter dataset to start and end period\n",
    "ERA5 = ERA5.filter(ee.Filter.date(start_period, end_period))\n",
    "\n",
    "#add windspeed and wind direction bands to dataset\n",
    "ERA5windspeed = ERA5.map(windspeed)\n",
    "ERA5winddir = ERA5.map(wind_dir)"
   ]
  },
  {
   "cell_type": "code",
   "execution_count": 11,
   "id": "8b6ba480-db06-49db-9aff-1545e4c49431",
   "metadata": {},
   "outputs": [],
   "source": [
    "#function to calculate average windspeed in buffer area for each image in collection\n",
    "def mean_speed(image): \n",
    "    meanDict = image.select('windspeed').reduceRegions(\n",
    "        collection = buffers,\n",
    "        reducer = ee.Reducer.mean(),\n",
    "        scale = 27830)\n",
    "    return meanDict"
   ]
  },
  {
   "cell_type": "code",
   "execution_count": 12,
   "id": "4e2aa82c-86c9-4ae4-8e3c-523d6d4a065b",
   "metadata": {},
   "outputs": [],
   "source": [
    "#function to calculate average wind direction in buffer area for each image in collection\n",
    "def mean_dir(image):\n",
    "    meanDict = image.select('winddir').reduceRegions(\n",
    "        collection = buffers,\n",
    "        reducer = ee.Reducer.mean(),\n",
    "        scale = 27830\n",
    "  )\n",
    "    return meanDict"
   ]
  },
  {
   "cell_type": "code",
   "execution_count": 13,
   "id": "4d3e21ff-29b6-4d78-abbc-9b2cdf21c3f7",
   "metadata": {},
   "outputs": [],
   "source": [
    "#if want to trial on a short df\n",
    "#sg_df = sg_df.loc[0:2,:]"
   ]
  },
  {
   "cell_type": "code",
   "execution_count": 14,
   "id": "b0e3655a-c6b3-4d36-9ac1-6d10e33e8a32",
   "metadata": {},
   "outputs": [],
   "source": [
    "#create geometry column and gpd df and convert to ee feature collection\n",
    "#sg_gdf = gpd.GeoDataFrame(\n",
    "    #sg_df, geometry=gpd.points_from_xy(x=sg_df.x, y=sg_df.y, crs=('EPSG:4326'))\n",
    "#)"
   ]
  },
  {
   "cell_type": "code",
   "execution_count": 15,
   "id": "21842163-3f44-437d-902c-ace320f111a4",
   "metadata": {},
   "outputs": [],
   "source": [
    "#sg_gdf"
   ]
  },
  {
   "cell_type": "markdown",
   "id": "97af452e-71b9-44d1-a17e-31130e0967f0",
   "metadata": {},
   "source": [
    "#define functionto convert geopandas to feature collection as geemap function not working\n",
    "import numpy as np\n",
    "from functools import reduce\n",
    "from geopandas import GeoDataFrame\n",
    "from shapely.geometry import Point,Polygon\n",
    "\n",
    "def make_points(gdf):\n",
    "    g = [i for i in gdf.geometry]\n",
    "    features=[]\n",
    "    for i in range(len(g)):\n",
    "        g = [i for i in gdf.geometry]\n",
    "        x,y = g[i].coords.xy\n",
    "        cords = np.dstack((x,y)).tolist()\n",
    "        double_list = reduce(lambda x,y: x+y, cords)\n",
    "        single_list = reduce(lambda x,y: x+y, double_list)\n",
    "\n",
    "        g=ee.Geometry.Point(single_list)\n",
    "        feature = ee.Feature(g)\n",
    "        features.append(feature)\n",
    "        #print(\"done\")\n",
    "        ee_object = ee.FeatureCollection(features)\n",
    "    \n",
    "    return ee_object"
   ]
  },
  {
   "cell_type": "markdown",
   "id": "0aaf6d5e-e7e8-4b01-b015-11ce6f7e0614",
   "metadata": {},
   "source": [
    "#fc = make_points(sg_gdf)\n",
    "import json\n",
    "#import os\n",
    "#import requests\n",
    "from geemap import geojson_to_ee, ee_to_geojson\n",
    "sg_json = sg_gdf.to_json()\n",
    "sg_fc2 = ee.FeatureCollection(sg_json)\n",
    "sg_fc3 = geojson_to_ee(sg_json)"
   ]
  },
  {
   "cell_type": "code",
   "execution_count": 16,
   "id": "c3cf142c-2460-42e0-9620-1bfc994a0408",
   "metadata": {},
   "outputs": [],
   "source": [
    "#apply function to the sg geodataframe\n",
    "#sg_fc = make_points(sg_gdf)"
   ]
  },
  {
   "cell_type": "code",
   "execution_count": 17,
   "id": "cb13d643-b2bd-468a-ac25-a9cae234ef83",
   "metadata": {},
   "outputs": [],
   "source": [
    "#check seagrass locations using geemap to visualise\n",
    "#Map = geemap.Map()\n",
    "#Map.addLayer(sg_fc, {}, 'seagrass')\n",
    "#Map"
   ]
  },
  {
   "cell_type": "code",
   "execution_count": 18,
   "id": "215801db-28fb-4766-ac63-c42ec7e417fb",
   "metadata": {},
   "outputs": [],
   "source": [
    "#run loop to extract windspeed for each site and put into a dictionary of dataframes\n",
    "\n",
    "def addBuffer(feature):\n",
    "    return feature.buffer(10000)\n",
    "buffers = sg_fc.map(addBuffer)\n",
    "    \n",
    "#map functions to average wind speed and direction across buffer geometry\n",
    "ERA5meanspeed = ERA5windspeed.map(mean_speed).flatten()\n",
    "ERA5meandir = ERA5winddir.map(mean_dir).flatten()\n",
    "\n",
    "#export data into a dataframe\n",
    "#convert bands into arrays\n",
    "\n",
    "time = ERA5meanspeed.aggregate_array('system:index').getInfo()\n",
    "windspeed = ERA5meanspeed.aggregate_array('mean').getInfo()\n",
    "winddir = ERA5meandir.aggregate_array('mean').getInfo()\n",
    "site_name = ERA5meandir.aggregate_array('Site_name').getInfo()\n",
    "Dataset_ID = ERA5meanspeed.aggregate_array('Dataset_ID').getInfo()\n",
    "\n",
    "#time_dir = ERA5meandir.aggregate_array('system:index').getInfo() #check that the times match\n",
    "#site_name_sp = ERA5meanspeed.aggregate_array('Site_name').getInfo()\n",
    "#run time == time_dir and site_name == site_name_sp to check they are the same order (==TRUE)\n",
    "\n",
    "#combine arrays into dataframe\n",
    "windspeed_out = pd.DataFrame ({'time':time,'windspeed':windspeed, 'winddir':winddir, 'site_name':site_name, 'Dataset_ID':Dataset_ID})\n",
    "\n",
    "##wind_data[name] = windspeed_out"
   ]
  },
  {
   "cell_type": "code",
   "execution_count": 19,
   "id": "cefc5074-6762-4e88-bb58-89f247595677",
   "metadata": {},
   "outputs": [
    {
     "data": {
      "text/html": [
       "<div>\n",
       "<style scoped>\n",
       "    .dataframe tbody tr th:only-of-type {\n",
       "        vertical-align: middle;\n",
       "    }\n",
       "\n",
       "    .dataframe tbody tr th {\n",
       "        vertical-align: top;\n",
       "    }\n",
       "\n",
       "    .dataframe thead th {\n",
       "        text-align: right;\n",
       "    }\n",
       "</style>\n",
       "<table border=\"1\" class=\"dataframe\">\n",
       "  <thead>\n",
       "    <tr style=\"text-align: right;\">\n",
       "      <th></th>\n",
       "      <th>time</th>\n",
       "      <th>windspeed</th>\n",
       "      <th>winddir</th>\n",
       "      <th>site_name</th>\n",
       "      <th>Dataset_ID</th>\n",
       "    </tr>\n",
       "  </thead>\n",
       "  <tbody>\n",
       "    <tr>\n",
       "      <th>0</th>\n",
       "      <td>20180101_0</td>\n",
       "      <td>1.885368</td>\n",
       "      <td>104.642309</td>\n",
       "      <td>Skagit Bay</td>\n",
       "      <td>ID_101</td>\n",
       "    </tr>\n",
       "    <tr>\n",
       "      <th>1</th>\n",
       "      <td>20180101_1</td>\n",
       "      <td>1.885368</td>\n",
       "      <td>104.642309</td>\n",
       "      <td>Skagit Bay</td>\n",
       "      <td>ID_102</td>\n",
       "    </tr>\n",
       "    <tr>\n",
       "      <th>2</th>\n",
       "      <td>20180101_2</td>\n",
       "      <td>2.822264</td>\n",
       "      <td>13.250047</td>\n",
       "      <td>Padilla Bay</td>\n",
       "      <td>ID_103</td>\n",
       "    </tr>\n",
       "    <tr>\n",
       "      <th>3</th>\n",
       "      <td>20180101_3</td>\n",
       "      <td>2.822264</td>\n",
       "      <td>13.250047</td>\n",
       "      <td>Padilla Bay</td>\n",
       "      <td>ID_104</td>\n",
       "    </tr>\n",
       "    <tr>\n",
       "      <th>4</th>\n",
       "      <td>20180101_4</td>\n",
       "      <td>2.602339</td>\n",
       "      <td>72.759335</td>\n",
       "      <td>Padilla Bay</td>\n",
       "      <td>ID_105</td>\n",
       "    </tr>\n",
       "    <tr>\n",
       "      <th>...</th>\n",
       "      <td>...</td>\n",
       "      <td>...</td>\n",
       "      <td>...</td>\n",
       "      <td>...</td>\n",
       "      <td>...</td>\n",
       "    </tr>\n",
       "    <tr>\n",
       "      <th>158405</th>\n",
       "      <td>20191231_212</td>\n",
       "      <td>5.905985</td>\n",
       "      <td>295.983262</td>\n",
       "      <td>Gelting_LH</td>\n",
       "      <td>ID_321</td>\n",
       "    </tr>\n",
       "    <tr>\n",
       "      <th>158406</th>\n",
       "      <td>20191231_213</td>\n",
       "      <td>3.040839</td>\n",
       "      <td>110.100195</td>\n",
       "      <td>Wilcove</td>\n",
       "      <td>ID_322</td>\n",
       "    </tr>\n",
       "    <tr>\n",
       "      <th>158407</th>\n",
       "      <td>20191231_214</td>\n",
       "      <td>3.038590</td>\n",
       "      <td>109.983643</td>\n",
       "      <td>Thanckes Lake</td>\n",
       "      <td>ID_323</td>\n",
       "    </tr>\n",
       "    <tr>\n",
       "      <th>158408</th>\n",
       "      <td>20191231_215</td>\n",
       "      <td>3.455934</td>\n",
       "      <td>107.441266</td>\n",
       "      <td>Collapit Creek</td>\n",
       "      <td>ID_324</td>\n",
       "    </tr>\n",
       "    <tr>\n",
       "      <th>158409</th>\n",
       "      <td>20191231_216</td>\n",
       "      <td>1.816261</td>\n",
       "      <td>197.389246</td>\n",
       "      <td>Eklhorn Slough</td>\n",
       "      <td>ID_325</td>\n",
       "    </tr>\n",
       "  </tbody>\n",
       "</table>\n",
       "<p>158410 rows × 5 columns</p>\n",
       "</div>"
      ],
      "text/plain": [
       "                time  windspeed     winddir       site_name Dataset_ID\n",
       "0         20180101_0   1.885368  104.642309      Skagit Bay     ID_101\n",
       "1         20180101_1   1.885368  104.642309      Skagit Bay     ID_102\n",
       "2         20180101_2   2.822264   13.250047     Padilla Bay     ID_103\n",
       "3         20180101_3   2.822264   13.250047     Padilla Bay     ID_104\n",
       "4         20180101_4   2.602339   72.759335     Padilla Bay     ID_105\n",
       "...              ...        ...         ...             ...        ...\n",
       "158405  20191231_212   5.905985  295.983262      Gelting_LH     ID_321\n",
       "158406  20191231_213   3.040839  110.100195         Wilcove     ID_322\n",
       "158407  20191231_214   3.038590  109.983643  Thanckes Lake      ID_323\n",
       "158408  20191231_215   3.455934  107.441266  Collapit Creek     ID_324\n",
       "158409  20191231_216   1.816261  197.389246  Eklhorn Slough     ID_325\n",
       "\n",
       "[158410 rows x 5 columns]"
      ]
     },
     "execution_count": 19,
     "metadata": {},
     "output_type": "execute_result"
    }
   ],
   "source": [
    "windspeed_out"
   ]
  },
  {
   "cell_type": "code",
   "execution_count": 20,
   "id": "c464af9d-c0cd-4cf3-b96b-8ec0538dee93",
   "metadata": {},
   "outputs": [],
   "source": [
    "wind_data = {x: windspeed_out.loc[windspeed_out['Dataset_ID'] == x].drop('Dataset_ID', axis=1) for x in windspeed_out['Dataset_ID'].unique()}"
   ]
  },
  {
   "cell_type": "code",
   "execution_count": 21,
   "id": "2afefb89-0130-46b9-92ca-bd9980274e70",
   "metadata": {},
   "outputs": [
    {
     "data": {
      "text/plain": [
       "dict_keys(['ID_101', 'ID_102', 'ID_103', 'ID_104', 'ID_105', 'ID_106', 'ID_107', 'ID_108', 'ID_109', 'ID_110', 'ID_111', 'ID_112', 'ID_113', 'ID_114', 'ID_115', 'ID_116', 'ID_117', 'ID_118', 'ID_119', 'ID_120', 'ID_121', 'ID_122', 'ID_123', 'ID_124', 'ID_125', 'ID_126', 'ID_127', 'ID_128', 'ID_129', 'ID_130', 'ID_131', 'ID_132', 'ID_133', 'ID_134', 'ID_135', 'ID_136', 'ID_137', 'ID_138', 'ID_139', 'ID_140', 'ID_141', 'ID_142', 'ID_143', 'ID_144', 'ID_145', 'ID_146', 'ID_147', 'ID_148', 'ID_149', 'ID_150', 'ID_151', 'ID_152', 'ID_153', 'ID_155', 'ID_156', 'ID_157', 'ID_158', 'ID_159', 'ID_160', 'ID_161', 'ID_162', 'ID_163', 'ID_164', 'ID_165', 'ID_166', 'ID_167', 'ID_168', 'ID_169', 'ID_170', 'ID_171', 'ID_172', 'ID_173', 'ID_174', 'ID_175', 'ID_176', 'ID_177', 'ID_178', 'ID_179', 'ID_180', 'ID_181', 'ID_182', 'ID_183', 'ID_184', 'ID_185', 'ID_186', 'ID_187', 'ID_188', 'ID_189', 'ID_190', 'ID_191', 'ID_192', 'ID_193', 'ID_195', 'ID_196', 'ID_198', 'ID_199', 'ID_200', 'ID_201', 'ID_202', 'ID_206', 'ID_207', 'ID_208', 'ID_211', 'ID_212', 'ID_213', 'ID_214', 'ID_215', 'ID_216', 'ID_217', 'ID_218', 'ID_219', 'ID_220', 'ID_221', 'ID_222', 'ID_223', 'ID_224', 'ID_225', 'ID_226', 'ID_227', 'ID_228', 'ID_229', 'ID_230', 'ID_231', 'ID_232', 'ID_233', 'ID_234', 'ID_235', 'ID_236', 'ID_237', 'ID_238', 'ID_239', 'ID_240', 'ID_241', 'ID_242', 'ID_243', 'ID_244', 'ID_245', 'ID_246', 'ID_247', 'ID_248', 'ID_249', 'ID_250', 'ID_251', 'ID_252', 'ID_253', 'ID_254', 'ID_255', 'ID_256', 'ID_257', 'ID_258', 'ID_259', 'ID_260', 'ID_261', 'ID_262', 'ID_263', 'ID_264', 'ID_265', 'ID_266', 'ID_267', 'ID_268', 'ID_269', 'ID_270', 'ID_271', 'ID_272', 'ID_273', 'ID_274', 'ID_275', 'ID_276', 'ID_277', 'ID_278', 'ID_279', 'ID_280', 'ID_281', 'ID_282', 'ID_283', 'ID_284', 'ID_285', 'ID_286', 'ID_287', 'ID_288', 'ID_289', 'ID_290', 'ID_291', 'ID_292', 'ID_293', 'ID_294', 'ID_295', 'ID_296', 'ID_297', 'ID_298', 'ID_299', 'ID_300', 'ID_301', 'ID_302', 'ID_303', 'ID_304', 'ID_305', 'ID_306', 'ID_307', 'ID_308', 'ID_309', 'ID_310', 'ID_311', 'ID_312', 'ID_313', 'ID_314', 'ID_315', 'ID_316', 'ID_317', 'ID_318', 'ID_319', 'ID_320', 'ID_321', 'ID_322', 'ID_323', 'ID_324', 'ID_325'])"
      ]
     },
     "execution_count": 21,
     "metadata": {},
     "output_type": "execute_result"
    }
   ],
   "source": [
    "#view data\n",
    "wind_data.keys()"
   ]
  },
  {
   "cell_type": "code",
   "execution_count": 22,
   "id": "5bc94f85-5d41-4299-a9f0-3c2d2d5e6213",
   "metadata": {},
   "outputs": [
    {
     "data": {
      "text/plain": [
       "(730, 4)"
      ]
     },
     "execution_count": 22,
     "metadata": {},
     "output_type": "execute_result"
    }
   ],
   "source": [
    "f = wind_data['ID_101']\n",
    "f.min()\n",
    "f.shape"
   ]
  },
  {
   "cell_type": "code",
   "execution_count": 23,
   "id": "9a4c3766-6fa9-4ba1-8900-8f5af1769a59",
   "metadata": {},
   "outputs": [],
   "source": [
    "#extract dataframe to top quartile only values\n",
    "#add in quartile column\n",
    "\n",
    "quartile_dict = {}\n",
    "for key, df in wind_data.items():\n",
    "    df['quantile'] = pd.qcut(df['windspeed'], 4, labels=False)\n",
    "    df_q = df[df['quantile'] == 3]\n",
    "    quartile_dict[key] = df_q"
   ]
  },
  {
   "cell_type": "code",
   "execution_count": 24,
   "id": "d3a4a399-16e0-4a7a-844b-4daf377c394e",
   "metadata": {},
   "outputs": [
    {
     "data": {
      "text/plain": [
       "(183, 5)"
      ]
     },
     "execution_count": 24,
     "metadata": {},
     "output_type": "execute_result"
    }
   ],
   "source": [
    "g = quartile_dict['ID_101']\n",
    "g.min()\n",
    "g.shape"
   ]
  },
  {
   "cell_type": "markdown",
   "id": "e98b6aca-ca24-4a01-aa47-9bbb46808492",
   "metadata": {},
   "source": [
    "## Iterate over whole dictionary"
   ]
  },
  {
   "cell_type": "code",
   "execution_count": 25,
   "id": "b3ca0614-dc5f-48b6-a593-de0835e1f76f",
   "metadata": {},
   "outputs": [],
   "source": [
    "#add in a bearings column with the bearing grouping\n",
    "extr_bearings_dict = {}\n",
    "for key, df in quartile_dict.items(): \n",
    "    #print(wind_data[key].iloc[0]['winddir'])\n",
    "    #print(df.iloc[0]['winddir']) #prints first value in each dataframe in the winddir column\n",
    "    df2 = df.copy()       \n",
    "    conditions = [\n",
    "        (df['winddir'] <= 22.5),\n",
    "        (df['winddir'] > 22.5) & (df['winddir'] <= 45),\n",
    "        (df['winddir'] > 45) & (df['winddir'] <= 67.5),\n",
    "        (df['winddir'] > 67.5) & (df['winddir'] <= 90),\n",
    "        (df['winddir'] > 90) & (df['winddir'] <= 112.5),\n",
    "        (df['winddir'] > 112.5) & (df['winddir'] <= 135),\n",
    "        (df['winddir'] > 135) & (df['winddir'] <= 157.5),\n",
    "        (df['winddir'] > 157.5) & (df['winddir'] <= 180),\n",
    "        (df['winddir'] > 180) & (df['winddir'] <= 202.5),\n",
    "        (df['winddir'] > 202.5) & (df['winddir'] <= 225),\n",
    "        (df['winddir'] > 225) & (df['winddir'] <= 247.5),\n",
    "        (df['winddir'] > 247.5) & (df['winddir'] <= 270),\n",
    "        (df['winddir'] > 270) & (df['winddir'] <= 292.5),\n",
    "        (df['winddir'] > 292.5) & (df['winddir'] <= 315),\n",
    "        (df['winddir'] > 315) & (df['winddir'] <= 337.5),\n",
    "        (df['winddir'] > 337.5)]\n",
    "    bearings = np.arange(0,360,22.5)\n",
    "    df2['bearings'] = np.select(conditions, bearings)\n",
    "    \n",
    "    extr_bearings_dict[key] = df2"
   ]
  },
  {
   "cell_type": "code",
   "execution_count": 26,
   "id": "0a995529-207d-406f-999e-037b93338411",
   "metadata": {},
   "outputs": [
    {
     "data": {
      "text/plain": [
       "dict_keys(['ID_101', 'ID_102', 'ID_103', 'ID_104', 'ID_105', 'ID_106', 'ID_107', 'ID_108', 'ID_109', 'ID_110', 'ID_111', 'ID_112', 'ID_113', 'ID_114', 'ID_115', 'ID_116', 'ID_117', 'ID_118', 'ID_119', 'ID_120', 'ID_121', 'ID_122', 'ID_123', 'ID_124', 'ID_125', 'ID_126', 'ID_127', 'ID_128', 'ID_129', 'ID_130', 'ID_131', 'ID_132', 'ID_133', 'ID_134', 'ID_135', 'ID_136', 'ID_137', 'ID_138', 'ID_139', 'ID_140', 'ID_141', 'ID_142', 'ID_143', 'ID_144', 'ID_145', 'ID_146', 'ID_147', 'ID_148', 'ID_149', 'ID_150', 'ID_151', 'ID_152', 'ID_153', 'ID_155', 'ID_156', 'ID_157', 'ID_158', 'ID_159', 'ID_160', 'ID_161', 'ID_162', 'ID_163', 'ID_164', 'ID_165', 'ID_166', 'ID_167', 'ID_168', 'ID_169', 'ID_170', 'ID_171', 'ID_172', 'ID_173', 'ID_174', 'ID_175', 'ID_176', 'ID_177', 'ID_178', 'ID_179', 'ID_180', 'ID_181', 'ID_182', 'ID_183', 'ID_184', 'ID_185', 'ID_186', 'ID_187', 'ID_188', 'ID_189', 'ID_190', 'ID_191', 'ID_192', 'ID_193', 'ID_195', 'ID_196', 'ID_198', 'ID_199', 'ID_200', 'ID_201', 'ID_202', 'ID_206', 'ID_207', 'ID_208', 'ID_211', 'ID_212', 'ID_213', 'ID_214', 'ID_215', 'ID_216', 'ID_217', 'ID_218', 'ID_219', 'ID_220', 'ID_221', 'ID_222', 'ID_223', 'ID_224', 'ID_225', 'ID_226', 'ID_227', 'ID_228', 'ID_229', 'ID_230', 'ID_231', 'ID_232', 'ID_233', 'ID_234', 'ID_235', 'ID_236', 'ID_237', 'ID_238', 'ID_239', 'ID_240', 'ID_241', 'ID_242', 'ID_243', 'ID_244', 'ID_245', 'ID_246', 'ID_247', 'ID_248', 'ID_249', 'ID_250', 'ID_251', 'ID_252', 'ID_253', 'ID_254', 'ID_255', 'ID_256', 'ID_257', 'ID_258', 'ID_259', 'ID_260', 'ID_261', 'ID_262', 'ID_263', 'ID_264', 'ID_265', 'ID_266', 'ID_267', 'ID_268', 'ID_269', 'ID_270', 'ID_271', 'ID_272', 'ID_273', 'ID_274', 'ID_275', 'ID_276', 'ID_277', 'ID_278', 'ID_279', 'ID_280', 'ID_281', 'ID_282', 'ID_283', 'ID_284', 'ID_285', 'ID_286', 'ID_287', 'ID_288', 'ID_289', 'ID_290', 'ID_291', 'ID_292', 'ID_293', 'ID_294', 'ID_295', 'ID_296', 'ID_297', 'ID_298', 'ID_299', 'ID_300', 'ID_301', 'ID_302', 'ID_303', 'ID_304', 'ID_305', 'ID_306', 'ID_307', 'ID_308', 'ID_309', 'ID_310', 'ID_311', 'ID_312', 'ID_313', 'ID_314', 'ID_315', 'ID_316', 'ID_317', 'ID_318', 'ID_319', 'ID_320', 'ID_321', 'ID_322', 'ID_323', 'ID_324', 'ID_325'])"
      ]
     },
     "execution_count": 26,
     "metadata": {},
     "output_type": "execute_result"
    }
   ],
   "source": [
    "extr_bearings_dict.keys()"
   ]
  },
  {
   "cell_type": "code",
   "execution_count": 27,
   "id": "df42aa80-8ca5-425f-8c51-9e2e48712082",
   "metadata": {},
   "outputs": [],
   "source": [
    "#calculate the average windspeed in each bearing direction\n",
    "x = np.arange(0,365,22.5) #defines bins up to 360 for the value_counts calculation \n",
    "extr_speed_freq_dict = {}\n",
    "for key, df in extr_bearings_dict.items():\n",
    "    windspeed = df.groupby(by = 'bearings')['windspeed'].mean()\n",
    "    wind_freq = df['winddir'].value_counts(bins = x, normalize = True).sort_index(ascending = True)\n",
    "\n",
    "    #convert to dfs and tidy up ready to merg\n",
    "    wind_freq = pd.DataFrame(wind_freq)\n",
    "    #print(wind_freq)\n",
    "    #wind_freq['bearings'] = bearings\n",
    "    wind_freq.rename(columns = {'winddir': 'wind_freq'}, inplace = True)\n",
    "    #print(x)\n",
    "    bearings = np.arange(0,360,22.5)\n",
    "    wind_freq['bearings'] = bearings\n",
    "    wind_freq.reset_index(drop = True, inplace = True)\n",
    "    #print(wind_freq)\n",
    "    windspeed = pd.DataFrame(windspeed)\n",
    "    windspeed.reset_index(inplace = True)\n",
    "    \n",
    "    windspeed_freq = pd.merge(windspeed, wind_freq, on= 'bearings')\n",
    "    #windspeed_freq = windspeed_freq.drop(['key_0'], axis =1)\n",
    "    extr_speed_freq_dict[key] = windspeed_freq\n"
   ]
  },
  {
   "cell_type": "code",
   "execution_count": 28,
   "id": "637bbc60-ac63-43b3-b8ad-65d4da1e63c1",
   "metadata": {},
   "outputs": [
    {
     "data": {
      "text/html": [
       "<div>\n",
       "<style scoped>\n",
       "    .dataframe tbody tr th:only-of-type {\n",
       "        vertical-align: middle;\n",
       "    }\n",
       "\n",
       "    .dataframe tbody tr th {\n",
       "        vertical-align: top;\n",
       "    }\n",
       "\n",
       "    .dataframe thead th {\n",
       "        text-align: right;\n",
       "    }\n",
       "</style>\n",
       "<table border=\"1\" class=\"dataframe\">\n",
       "  <thead>\n",
       "    <tr style=\"text-align: right;\">\n",
       "      <th></th>\n",
       "      <th>bearings</th>\n",
       "      <th>windspeed</th>\n",
       "      <th>wind_freq</th>\n",
       "    </tr>\n",
       "  </thead>\n",
       "  <tbody>\n",
       "    <tr>\n",
       "      <th>0</th>\n",
       "      <td>0.0</td>\n",
       "      <td>4.597540</td>\n",
       "      <td>0.021858</td>\n",
       "    </tr>\n",
       "    <tr>\n",
       "      <th>1</th>\n",
       "      <td>22.5</td>\n",
       "      <td>4.466022</td>\n",
       "      <td>0.038251</td>\n",
       "    </tr>\n",
       "    <tr>\n",
       "      <th>2</th>\n",
       "      <td>67.5</td>\n",
       "      <td>3.320612</td>\n",
       "      <td>0.005464</td>\n",
       "    </tr>\n",
       "    <tr>\n",
       "      <th>3</th>\n",
       "      <td>90.0</td>\n",
       "      <td>3.806428</td>\n",
       "      <td>0.043716</td>\n",
       "    </tr>\n",
       "    <tr>\n",
       "      <th>4</th>\n",
       "      <td>112.5</td>\n",
       "      <td>4.748943</td>\n",
       "      <td>0.153005</td>\n",
       "    </tr>\n",
       "    <tr>\n",
       "      <th>5</th>\n",
       "      <td>135.0</td>\n",
       "      <td>5.682258</td>\n",
       "      <td>0.431694</td>\n",
       "    </tr>\n",
       "    <tr>\n",
       "      <th>6</th>\n",
       "      <td>157.5</td>\n",
       "      <td>3.978759</td>\n",
       "      <td>0.060109</td>\n",
       "    </tr>\n",
       "    <tr>\n",
       "      <th>7</th>\n",
       "      <td>180.0</td>\n",
       "      <td>4.043592</td>\n",
       "      <td>0.032787</td>\n",
       "    </tr>\n",
       "    <tr>\n",
       "      <th>8</th>\n",
       "      <td>202.5</td>\n",
       "      <td>3.889070</td>\n",
       "      <td>0.060109</td>\n",
       "    </tr>\n",
       "    <tr>\n",
       "      <th>9</th>\n",
       "      <td>225.0</td>\n",
       "      <td>3.947039</td>\n",
       "      <td>0.092896</td>\n",
       "    </tr>\n",
       "    <tr>\n",
       "      <th>10</th>\n",
       "      <td>247.5</td>\n",
       "      <td>4.214528</td>\n",
       "      <td>0.043716</td>\n",
       "    </tr>\n",
       "    <tr>\n",
       "      <th>11</th>\n",
       "      <td>270.0</td>\n",
       "      <td>4.354132</td>\n",
       "      <td>0.005464</td>\n",
       "    </tr>\n",
       "    <tr>\n",
       "      <th>12</th>\n",
       "      <td>337.5</td>\n",
       "      <td>3.726981</td>\n",
       "      <td>0.010929</td>\n",
       "    </tr>\n",
       "  </tbody>\n",
       "</table>\n",
       "</div>"
      ],
      "text/plain": [
       "    bearings  windspeed  wind_freq\n",
       "0        0.0   4.597540   0.021858\n",
       "1       22.5   4.466022   0.038251\n",
       "2       67.5   3.320612   0.005464\n",
       "3       90.0   3.806428   0.043716\n",
       "4      112.5   4.748943   0.153005\n",
       "5      135.0   5.682258   0.431694\n",
       "6      157.5   3.978759   0.060109\n",
       "7      180.0   4.043592   0.032787\n",
       "8      202.5   3.889070   0.060109\n",
       "9      225.0   3.947039   0.092896\n",
       "10     247.5   4.214528   0.043716\n",
       "11     270.0   4.354132   0.005464\n",
       "12     337.5   3.726981   0.010929"
      ]
     },
     "execution_count": 28,
     "metadata": {},
     "output_type": "execute_result"
    }
   ],
   "source": [
    "extr_speed_freq_dict['ID_101']"
   ]
  },
  {
   "cell_type": "markdown",
   "id": "74f350b1-0541-45a5-b731-70254a1b5a86",
   "metadata": {},
   "source": [
    "# Import fetch data"
   ]
  },
  {
   "cell_type": "code",
   "execution_count": 29,
   "id": "cd727d51-0ce1-487d-94b0-96ed2cbe7648",
   "metadata": {},
   "outputs": [],
   "source": [
    "#read in fetch data - as one df in wide form\n",
    "fetch_path = r\"C:\\Users\\nw431\\OneDrive - University of Exeter\\1_PhD Research\\Project1_Carbon Model\\Seagrass env variables\\1_Environmental_variables\\R\\Final_fetch_calc\\outputs\\final_outputs\\final_fetch_all.csv\"\n",
    "fetch = pd.read_csv(fetch_path) \n",
    "#fetch"
   ]
  },
  {
   "cell_type": "code",
   "execution_count": 30,
   "id": "8b81a285-0527-40de-b3f2-0a686c12117a",
   "metadata": {},
   "outputs": [
    {
     "data": {
      "text/plain": [
       "(217, 21)"
      ]
     },
     "execution_count": 30,
     "metadata": {},
     "output_type": "execute_result"
    }
   ],
   "source": [
    "fetch.shape"
   ]
  },
  {
   "cell_type": "code",
   "execution_count": 32,
   "id": "e25bbc0d-7d1d-4363-91b3-7d37ca126984",
   "metadata": {},
   "outputs": [],
   "source": [
    "extr_all_dict = {}\n",
    "final_extr_dict = {}\n",
    "\n",
    "for key, df in extr_speed_freq_dict.items():\n",
    "    #ID = key\n",
    "    fetch_df = fetch[fetch['Dataset_ID'] == key]\n",
    "    #print(fetch_df)\n",
    "    fetch_df = fetch_df.iloc[0,5:]\n",
    "    \n",
    "    fetch_df = pd.DataFrame(fetch_df)\n",
    "    fetch_df.reset_index(inplace = True)\n",
    "    fetch_df.rename(columns={fetch_df.columns[1]: \"fetch_m\", fetch_df.columns[0]:\"bearings\"}, inplace = True)\n",
    "    fetch_df=fetch_df.astype(float)\n",
    "    #print(fetch_df)\n",
    "    \n",
    "    all_df = pd.merge(df, fetch_df, on = 'bearings')\n",
    "    extr_all_dict[key] = all_df\n",
    "\n",
    "for key, df in extr_all_dict.items():\n",
    "    #df = df.drop(['key_0'], axis=1)\n",
    "    #df = df.drop(['bearings_y'], axis = 1)\n",
    "    df.rename(columns={df.columns[0]: \"bearings\" }, inplace = True)\n",
    "    final_extr_dict[key] = df"
   ]
  },
  {
   "cell_type": "code",
   "execution_count": 33,
   "id": "1709e798-6a44-4bbb-8c67-de1e5065e88d",
   "metadata": {},
   "outputs": [
    {
     "data": {
      "text/html": [
       "<div>\n",
       "<style scoped>\n",
       "    .dataframe tbody tr th:only-of-type {\n",
       "        vertical-align: middle;\n",
       "    }\n",
       "\n",
       "    .dataframe tbody tr th {\n",
       "        vertical-align: top;\n",
       "    }\n",
       "\n",
       "    .dataframe thead th {\n",
       "        text-align: right;\n",
       "    }\n",
       "</style>\n",
       "<table border=\"1\" class=\"dataframe\">\n",
       "  <thead>\n",
       "    <tr style=\"text-align: right;\">\n",
       "      <th></th>\n",
       "      <th>bearings</th>\n",
       "      <th>windspeed</th>\n",
       "      <th>wind_freq</th>\n",
       "      <th>fetch_m</th>\n",
       "    </tr>\n",
       "  </thead>\n",
       "  <tbody>\n",
       "    <tr>\n",
       "      <th>0</th>\n",
       "      <td>0.0</td>\n",
       "      <td>4.485279</td>\n",
       "      <td>0.016393</td>\n",
       "      <td>2732.042856</td>\n",
       "    </tr>\n",
       "    <tr>\n",
       "      <th>1</th>\n",
       "      <td>22.5</td>\n",
       "      <td>6.297622</td>\n",
       "      <td>0.087432</td>\n",
       "      <td>2348.798355</td>\n",
       "    </tr>\n",
       "    <tr>\n",
       "      <th>2</th>\n",
       "      <td>45.0</td>\n",
       "      <td>4.603430</td>\n",
       "      <td>0.027322</td>\n",
       "      <td>2774.220327</td>\n",
       "    </tr>\n",
       "    <tr>\n",
       "      <th>3</th>\n",
       "      <td>90.0</td>\n",
       "      <td>4.587294</td>\n",
       "      <td>0.010929</td>\n",
       "      <td>2415.588679</td>\n",
       "    </tr>\n",
       "    <tr>\n",
       "      <th>4</th>\n",
       "      <td>112.5</td>\n",
       "      <td>5.154255</td>\n",
       "      <td>0.060109</td>\n",
       "      <td>3508.593403</td>\n",
       "    </tr>\n",
       "    <tr>\n",
       "      <th>5</th>\n",
       "      <td>135.0</td>\n",
       "      <td>6.641082</td>\n",
       "      <td>0.245902</td>\n",
       "      <td>4662.790206</td>\n",
       "    </tr>\n",
       "    <tr>\n",
       "      <th>6</th>\n",
       "      <td>157.5</td>\n",
       "      <td>5.643059</td>\n",
       "      <td>0.174863</td>\n",
       "      <td>9534.869504</td>\n",
       "    </tr>\n",
       "    <tr>\n",
       "      <th>7</th>\n",
       "      <td>180.0</td>\n",
       "      <td>4.739949</td>\n",
       "      <td>0.224044</td>\n",
       "      <td>7731.322522</td>\n",
       "    </tr>\n",
       "    <tr>\n",
       "      <th>8</th>\n",
       "      <td>202.5</td>\n",
       "      <td>4.981731</td>\n",
       "      <td>0.125683</td>\n",
       "      <td>2539.530796</td>\n",
       "    </tr>\n",
       "    <tr>\n",
       "      <th>9</th>\n",
       "      <td>225.0</td>\n",
       "      <td>4.652281</td>\n",
       "      <td>0.021858</td>\n",
       "      <td>2188.940319</td>\n",
       "    </tr>\n",
       "    <tr>\n",
       "      <th>10</th>\n",
       "      <td>247.5</td>\n",
       "      <td>5.312547</td>\n",
       "      <td>0.005464</td>\n",
       "      <td>2885.356531</td>\n",
       "    </tr>\n",
       "  </tbody>\n",
       "</table>\n",
       "</div>"
      ],
      "text/plain": [
       "    bearings  windspeed  wind_freq      fetch_m\n",
       "0        0.0   4.485279   0.016393  2732.042856\n",
       "1       22.5   6.297622   0.087432  2348.798355\n",
       "2       45.0   4.603430   0.027322  2774.220327\n",
       "3       90.0   4.587294   0.010929  2415.588679\n",
       "4      112.5   5.154255   0.060109  3508.593403\n",
       "5      135.0   6.641082   0.245902  4662.790206\n",
       "6      157.5   5.643059   0.174863  9534.869504\n",
       "7      180.0   4.739949   0.224044  7731.322522\n",
       "8      202.5   4.981731   0.125683  2539.530796\n",
       "9      225.0   4.652281   0.021858  2188.940319\n",
       "10     247.5   5.312547   0.005464  2885.356531"
      ]
     },
     "execution_count": 33,
     "metadata": {},
     "output_type": "execute_result"
    }
   ],
   "source": [
    "final_extr_dict['ID_103']"
   ]
  },
  {
   "cell_type": "code",
   "execution_count": 34,
   "id": "16545b22-41ed-466b-a90e-afd2e007ef03",
   "metadata": {},
   "outputs": [],
   "source": [
    "#fetch.loc[5,:]"
   ]
  },
  {
   "cell_type": "code",
   "execution_count": 35,
   "id": "d51e81e3-20fa-43ce-ae82-0ffa54c42614",
   "metadata": {
    "tags": []
   },
   "outputs": [],
   "source": [
    "#dropping the test columns\n",
    "#for key, df in bearings_dict.items():\n",
    "    #df = df.drop(['test'], axis=1)\n",
    "    #new_dict[key] = df"
   ]
  },
  {
   "cell_type": "code",
   "execution_count": 36,
   "id": "8efd81c4-6887-4cf0-a234-ec43e6baaeb7",
   "metadata": {},
   "outputs": [],
   "source": [
    "#calculate the product of windspeed, winddir and fetch on each line\n",
    "extr_product = {}\n",
    "\n",
    "for key, df in final_extr_dict.items():\n",
    "    df['product'] = df.windspeed *df.wind_freq * df.fetch_m\n",
    "    extr_product[key] = df"
   ]
  },
  {
   "cell_type": "code",
   "execution_count": 37,
   "id": "d1a4fcdf-0c48-4f27-a7eb-259383545c1f",
   "metadata": {},
   "outputs": [
    {
     "data": {
      "text/html": [
       "<div>\n",
       "<style scoped>\n",
       "    .dataframe tbody tr th:only-of-type {\n",
       "        vertical-align: middle;\n",
       "    }\n",
       "\n",
       "    .dataframe tbody tr th {\n",
       "        vertical-align: top;\n",
       "    }\n",
       "\n",
       "    .dataframe thead th {\n",
       "        text-align: right;\n",
       "    }\n",
       "</style>\n",
       "<table border=\"1\" class=\"dataframe\">\n",
       "  <thead>\n",
       "    <tr style=\"text-align: right;\">\n",
       "      <th></th>\n",
       "      <th>bearings</th>\n",
       "      <th>windspeed</th>\n",
       "      <th>wind_freq</th>\n",
       "      <th>fetch_m</th>\n",
       "      <th>product</th>\n",
       "    </tr>\n",
       "  </thead>\n",
       "  <tbody>\n",
       "    <tr>\n",
       "      <th>0</th>\n",
       "      <td>0.0</td>\n",
       "      <td>4.597540</td>\n",
       "      <td>0.021858</td>\n",
       "      <td>3984.635639</td>\n",
       "      <td>400.426721</td>\n",
       "    </tr>\n",
       "    <tr>\n",
       "      <th>1</th>\n",
       "      <td>22.5</td>\n",
       "      <td>4.466022</td>\n",
       "      <td>0.038251</td>\n",
       "      <td>3875.819611</td>\n",
       "      <td>662.111897</td>\n",
       "    </tr>\n",
       "    <tr>\n",
       "      <th>2</th>\n",
       "      <td>67.5</td>\n",
       "      <td>3.320612</td>\n",
       "      <td>0.005464</td>\n",
       "      <td>4581.228391</td>\n",
       "      <td>83.128314</td>\n",
       "    </tr>\n",
       "    <tr>\n",
       "      <th>3</th>\n",
       "      <td>90.0</td>\n",
       "      <td>3.806428</td>\n",
       "      <td>0.043716</td>\n",
       "      <td>5764.446154</td>\n",
       "      <td>959.210991</td>\n",
       "    </tr>\n",
       "    <tr>\n",
       "      <th>4</th>\n",
       "      <td>112.5</td>\n",
       "      <td>4.748943</td>\n",
       "      <td>0.153005</td>\n",
       "      <td>7108.274106</td>\n",
       "      <td>5164.973327</td>\n",
       "    </tr>\n",
       "    <tr>\n",
       "      <th>5</th>\n",
       "      <td>135.0</td>\n",
       "      <td>5.682258</td>\n",
       "      <td>0.431694</td>\n",
       "      <td>8468.344695</td>\n",
       "      <td>20772.822548</td>\n",
       "    </tr>\n",
       "    <tr>\n",
       "      <th>6</th>\n",
       "      <td>157.5</td>\n",
       "      <td>3.978759</td>\n",
       "      <td>0.060109</td>\n",
       "      <td>5972.975525</td>\n",
       "      <td>1428.499071</td>\n",
       "    </tr>\n",
       "    <tr>\n",
       "      <th>7</th>\n",
       "      <td>180.0</td>\n",
       "      <td>4.043592</td>\n",
       "      <td>0.032787</td>\n",
       "      <td>6960.724548</td>\n",
       "      <td>922.830609</td>\n",
       "    </tr>\n",
       "    <tr>\n",
       "      <th>8</th>\n",
       "      <td>202.5</td>\n",
       "      <td>3.889070</td>\n",
       "      <td>0.060109</td>\n",
       "      <td>7542.108229</td>\n",
       "      <td>1763.112893</td>\n",
       "    </tr>\n",
       "    <tr>\n",
       "      <th>9</th>\n",
       "      <td>225.0</td>\n",
       "      <td>3.947039</td>\n",
       "      <td>0.092896</td>\n",
       "      <td>3130.928224</td>\n",
       "      <td>1148.001392</td>\n",
       "    </tr>\n",
       "    <tr>\n",
       "      <th>10</th>\n",
       "      <td>247.5</td>\n",
       "      <td>4.214528</td>\n",
       "      <td>0.043716</td>\n",
       "      <td>2248.718894</td>\n",
       "      <td>414.307665</td>\n",
       "    </tr>\n",
       "    <tr>\n",
       "      <th>11</th>\n",
       "      <td>270.0</td>\n",
       "      <td>4.354132</td>\n",
       "      <td>0.005464</td>\n",
       "      <td>2482.073945</td>\n",
       "      <td>59.056161</td>\n",
       "    </tr>\n",
       "    <tr>\n",
       "      <th>12</th>\n",
       "      <td>337.5</td>\n",
       "      <td>3.726981</td>\n",
       "      <td>0.010929</td>\n",
       "      <td>4908.770788</td>\n",
       "      <td>199.944238</td>\n",
       "    </tr>\n",
       "  </tbody>\n",
       "</table>\n",
       "</div>"
      ],
      "text/plain": [
       "    bearings  windspeed  wind_freq      fetch_m       product\n",
       "0        0.0   4.597540   0.021858  3984.635639    400.426721\n",
       "1       22.5   4.466022   0.038251  3875.819611    662.111897\n",
       "2       67.5   3.320612   0.005464  4581.228391     83.128314\n",
       "3       90.0   3.806428   0.043716  5764.446154    959.210991\n",
       "4      112.5   4.748943   0.153005  7108.274106   5164.973327\n",
       "5      135.0   5.682258   0.431694  8468.344695  20772.822548\n",
       "6      157.5   3.978759   0.060109  5972.975525   1428.499071\n",
       "7      180.0   4.043592   0.032787  6960.724548    922.830609\n",
       "8      202.5   3.889070   0.060109  7542.108229   1763.112893\n",
       "9      225.0   3.947039   0.092896  3130.928224   1148.001392\n",
       "10     247.5   4.214528   0.043716  2248.718894    414.307665\n",
       "11     270.0   4.354132   0.005464  2482.073945     59.056161\n",
       "12     337.5   3.726981   0.010929  4908.770788    199.944238"
      ]
     },
     "execution_count": 37,
     "metadata": {},
     "output_type": "execute_result"
    }
   ],
   "source": [
    "extr_product['ID_101']"
   ]
  },
  {
   "cell_type": "code",
   "execution_count": 38,
   "id": "af680ef1-e351-40c0-b252-1669ce7d0c3e",
   "metadata": {},
   "outputs": [],
   "source": [
    "#function to sum up the product column for an exposure score\n",
    "def sum_up(df):\n",
    "    total = 0\n",
    "    for number in df['product']:\n",
    "        total = total + number\n",
    "        \n",
    "    return total"
   ]
  },
  {
   "cell_type": "code",
   "execution_count": 39,
   "id": "5d033a04-c097-4c7e-9514-9f5735323414",
   "metadata": {},
   "outputs": [],
   "source": [
    "extr_exposure = {}\n",
    "#returns a dictionary of site name and exposure value\n",
    "for key, df in extr_product.items():\n",
    "    exp = sum_up(df)  #run the function to sum up the product column\n",
    "    exp = round(exp,2)  #round to two decimal places \n",
    "    extr_exposure[key] = exp #save to a new dictionary"
   ]
  },
  {
   "cell_type": "code",
   "execution_count": 40,
   "id": "1ac12918-76d4-4909-b3bf-25e99691131d",
   "metadata": {},
   "outputs": [
    {
     "data": {
      "text/plain": [
       "33978.43"
      ]
     },
     "execution_count": 40,
     "metadata": {},
     "output_type": "execute_result"
    }
   ],
   "source": [
    "extr_exposure['ID_101']"
   ]
  },
  {
   "cell_type": "code",
   "execution_count": 41,
   "id": "cba4aa77-f9ca-4624-b4a6-98a9b24819e2",
   "metadata": {},
   "outputs": [
    {
     "data": {
      "text/html": [
       "<div>\n",
       "<style scoped>\n",
       "    .dataframe tbody tr th:only-of-type {\n",
       "        vertical-align: middle;\n",
       "    }\n",
       "\n",
       "    .dataframe tbody tr th {\n",
       "        vertical-align: top;\n",
       "    }\n",
       "\n",
       "    .dataframe thead th {\n",
       "        text-align: right;\n",
       "    }\n",
       "</style>\n",
       "<table border=\"1\" class=\"dataframe\">\n",
       "  <thead>\n",
       "    <tr style=\"text-align: right;\">\n",
       "      <th></th>\n",
       "      <th>extr_exposure</th>\n",
       "    </tr>\n",
       "  </thead>\n",
       "  <tbody>\n",
       "    <tr>\n",
       "      <th>ID_234</th>\n",
       "      <td>559355.36</td>\n",
       "    </tr>\n",
       "    <tr>\n",
       "      <th>ID_139</th>\n",
       "      <td>243754.51</td>\n",
       "    </tr>\n",
       "    <tr>\n",
       "      <th>ID_316</th>\n",
       "      <td>218444.77</td>\n",
       "    </tr>\n",
       "    <tr>\n",
       "      <th>ID_310</th>\n",
       "      <td>213779.69</td>\n",
       "    </tr>\n",
       "    <tr>\n",
       "      <th>ID_135</th>\n",
       "      <td>204808.32</td>\n",
       "    </tr>\n",
       "    <tr>\n",
       "      <th>...</th>\n",
       "      <td>...</td>\n",
       "    </tr>\n",
       "    <tr>\n",
       "      <th>ID_291</th>\n",
       "      <td>790.02</td>\n",
       "    </tr>\n",
       "    <tr>\n",
       "      <th>ID_216</th>\n",
       "      <td>729.88</td>\n",
       "    </tr>\n",
       "    <tr>\n",
       "      <th>ID_116</th>\n",
       "      <td>607.57</td>\n",
       "    </tr>\n",
       "    <tr>\n",
       "      <th>ID_183</th>\n",
       "      <td>564.39</td>\n",
       "    </tr>\n",
       "    <tr>\n",
       "      <th>ID_172</th>\n",
       "      <td>564.39</td>\n",
       "    </tr>\n",
       "  </tbody>\n",
       "</table>\n",
       "<p>217 rows × 1 columns</p>\n",
       "</div>"
      ],
      "text/plain": [
       "        extr_exposure\n",
       "ID_234      559355.36\n",
       "ID_139      243754.51\n",
       "ID_316      218444.77\n",
       "ID_310      213779.69\n",
       "ID_135      204808.32\n",
       "...               ...\n",
       "ID_291         790.02\n",
       "ID_216         729.88\n",
       "ID_116         607.57\n",
       "ID_183         564.39\n",
       "ID_172         564.39\n",
       "\n",
       "[217 rows x 1 columns]"
      ]
     },
     "execution_count": 41,
     "metadata": {},
     "output_type": "execute_result"
    }
   ],
   "source": [
    "extr_ex_df = pd.DataFrame.from_dict(extr_exposure, orient = 'index')\n",
    "extr_ex_df.rename(columns={extr_ex_df.columns[0]: 'extr_exposure'}, inplace = True)\n",
    "extr_ex_df.sort_values(by=['extr_exposure'], ascending = False)"
   ]
  },
  {
   "cell_type": "code",
   "execution_count": 42,
   "id": "482d5310-b2f1-4354-9a78-67f397c238f0",
   "metadata": {},
   "outputs": [],
   "source": [
    "#match ID and site name back together in final output\n",
    "final_extr_exp = pd.merge(extr_ex_df, fetch[['Dataset_ID', 'Site_name']], left_index=True, right_on='Dataset_ID')"
   ]
  },
  {
   "cell_type": "code",
   "execution_count": 43,
   "id": "fb5504cc-b033-4611-8da0-209344868a03",
   "metadata": {},
   "outputs": [
    {
     "data": {
      "text/html": [
       "<div>\n",
       "<style scoped>\n",
       "    .dataframe tbody tr th:only-of-type {\n",
       "        vertical-align: middle;\n",
       "    }\n",
       "\n",
       "    .dataframe tbody tr th {\n",
       "        vertical-align: top;\n",
       "    }\n",
       "\n",
       "    .dataframe thead th {\n",
       "        text-align: right;\n",
       "    }\n",
       "</style>\n",
       "<table border=\"1\" class=\"dataframe\">\n",
       "  <thead>\n",
       "    <tr style=\"text-align: right;\">\n",
       "      <th></th>\n",
       "      <th>extr_exposure</th>\n",
       "      <th>Dataset_ID</th>\n",
       "      <th>Site_name</th>\n",
       "    </tr>\n",
       "  </thead>\n",
       "  <tbody>\n",
       "    <tr>\n",
       "      <th>107</th>\n",
       "      <td>564.39</td>\n",
       "      <td>ID_183</td>\n",
       "      <td>Orleans, MA</td>\n",
       "    </tr>\n",
       "    <tr>\n",
       "      <th>98</th>\n",
       "      <td>564.39</td>\n",
       "      <td>ID_172</td>\n",
       "      <td>Orleans, MA</td>\n",
       "    </tr>\n",
       "    <tr>\n",
       "      <th>21</th>\n",
       "      <td>607.57</td>\n",
       "      <td>ID_116</td>\n",
       "      <td>Kaguk Cove</td>\n",
       "    </tr>\n",
       "    <tr>\n",
       "      <th>23</th>\n",
       "      <td>729.88</td>\n",
       "      <td>ID_216</td>\n",
       "      <td>South Wadleigh Island</td>\n",
       "    </tr>\n",
       "    <tr>\n",
       "      <th>0</th>\n",
       "      <td>790.02</td>\n",
       "      <td>ID_291</td>\n",
       "      <td>Newport Bay</td>\n",
       "    </tr>\n",
       "    <tr>\n",
       "      <th>...</th>\n",
       "      <td>...</td>\n",
       "      <td>...</td>\n",
       "      <td>...</td>\n",
       "    </tr>\n",
       "    <tr>\n",
       "      <th>118</th>\n",
       "      <td>204808.32</td>\n",
       "      <td>ID_135</td>\n",
       "      <td>Tomb Rock</td>\n",
       "    </tr>\n",
       "    <tr>\n",
       "      <th>182</th>\n",
       "      <td>213779.69</td>\n",
       "      <td>ID_310</td>\n",
       "      <td>Teichhof</td>\n",
       "    </tr>\n",
       "    <tr>\n",
       "      <th>188</th>\n",
       "      <td>218444.77</td>\n",
       "      <td>ID_316</td>\n",
       "      <td>Kellenhusen</td>\n",
       "    </tr>\n",
       "    <tr>\n",
       "      <th>122</th>\n",
       "      <td>243754.51</td>\n",
       "      <td>ID_139</td>\n",
       "      <td>Jennycliff Bay</td>\n",
       "    </tr>\n",
       "    <tr>\n",
       "      <th>82</th>\n",
       "      <td>559355.36</td>\n",
       "      <td>ID_234</td>\n",
       "      <td>Hidden Creek</td>\n",
       "    </tr>\n",
       "  </tbody>\n",
       "</table>\n",
       "<p>217 rows × 3 columns</p>\n",
       "</div>"
      ],
      "text/plain": [
       "     extr_exposure Dataset_ID              Site_name\n",
       "107         564.39     ID_183            Orleans, MA\n",
       "98          564.39     ID_172            Orleans, MA\n",
       "21          607.57     ID_116             Kaguk Cove\n",
       "23          729.88     ID_216  South Wadleigh Island\n",
       "0           790.02     ID_291            Newport Bay\n",
       "..             ...        ...                    ...\n",
       "118      204808.32     ID_135              Tomb Rock\n",
       "182      213779.69     ID_310               Teichhof\n",
       "188      218444.77     ID_316            Kellenhusen\n",
       "122      243754.51     ID_139         Jennycliff Bay\n",
       "82       559355.36     ID_234           Hidden Creek\n",
       "\n",
       "[217 rows x 3 columns]"
      ]
     },
     "execution_count": 43,
     "metadata": {},
     "output_type": "execute_result"
    }
   ],
   "source": [
    "final_extr_exp.sort_values('extr_exposure')"
   ]
  },
  {
   "cell_type": "code",
   "execution_count": 44,
   "id": "98ea1b60-e28f-4523-a88a-ecb1d6246df3",
   "metadata": {},
   "outputs": [],
   "source": [
    "#save to csv\n",
    "final_extr_exp.to_csv('outputs\\\\final__extremes_exposure.csv', index = False) "
   ]
  },
  {
   "cell_type": "code",
   "execution_count": 45,
   "id": "fec8bb12-5aa0-4c32-94c6-2caa1bdb7954",
   "metadata": {},
   "outputs": [
    {
     "data": {
      "text/plain": [
       "extr_exposure      564.39\n",
       "Dataset_ID         ID_101\n",
       "Site_name        Agero 12\n",
       "dtype: object"
      ]
     },
     "execution_count": 45,
     "metadata": {},
     "output_type": "execute_result"
    }
   ],
   "source": [
    "final_extr_exp.min()"
   ]
  },
  {
   "cell_type": "code",
   "execution_count": 46,
   "id": "9899ee01-2b12-400a-9fb4-c0f584628501",
   "metadata": {},
   "outputs": [
    {
     "data": {
      "text/plain": [
       "extr_exposure    559355.36\n",
       "Dataset_ID          ID_325\n",
       "Site_name            Ängsö\n",
       "dtype: object"
      ]
     },
     "execution_count": 46,
     "metadata": {},
     "output_type": "execute_result"
    }
   ],
   "source": [
    "final_extr_exp.max()"
   ]
  },
  {
   "cell_type": "code",
   "execution_count": 48,
   "id": "b71bad90-4a52-4a0d-a1a0-a539e5673530",
   "metadata": {},
   "outputs": [
    {
     "data": {
      "text/plain": [
       "<AxesSubplot:>"
      ]
     },
     "execution_count": 48,
     "metadata": {},
     "output_type": "execute_result"
    },
    {
     "data": {
      "image/png": "[encoded data removed]",
      "text/plain": [
       "<Figure size 432x288 with 1 Axes>"
      ]
     },
     "metadata": {
      "needs_background": "light"
     },
     "output_type": "display_data"
    }
   ],
   "source": [
    "final_extr_exp.extr_exposure.hist()"
   ]
  },
  {
   "cell_type": "code",
   "execution_count": null,
   "id": "a15c0d8b-67a2-4aba-8709-0631554de883",
   "metadata": {},
   "outputs": [],
   "source": []
  }
 ],
 "metadata": {
  "kernelspec": {
   "display_name": "Python 3",
   "language": "python",
   "name": "python3"
  },
  "language_info": {
   "codemirror_mode": {
    "name": "ipython",
    "version": 3
   },
   "file_extension": ".py",
   "mimetype": "text/x-python",
   "name": "python",
   "nbconvert_exporter": "python",
   "pygments_lexer": "ipython3",
   "version": "3.9.1"
  }
 },
 "nbformat": 4,
 "nbformat_minor": 5
}
